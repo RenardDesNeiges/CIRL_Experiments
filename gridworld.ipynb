{
 "cells": [
  {
   "attachments": {},
   "cell_type": "markdown",
   "metadata": {},
   "source": [
    "## class MDP\n",
    "\n",
    "should be specified by : \n",
    "\n",
    "$$\n",
    "(S,A,\\mathbf{P},r,\\nu,\\gamma)\n",
    "$$\n",
    "\n",
    "where :\n",
    "| Term                          | Notation                                         | Notes                                   |\n",
    "|:----------------------------- |:------------------------------------------------ |:--------------------------------------- |\n",
    "| Finite state space            | $S$                                              | $\\lvert S \\lvert=n$                     |\n",
    "| Finite action space           | $A$                                              | $\\lvert A \\lvert = m$                   |\n",
    "| Markovian transition law      | $\\mathbf{P} : S \\times A \\rightarrow \\Delta_S$ | maps onto the state probability simplex |\n",
    "| Initial state distribution    | $\\nu \\in \\Delta_S$                               |                                         |\n",
    "| Reward vector                 | $r \\in \\mathbb{R}^{n \\times m}$                  |                                         |\n",
    "| Safety constraint cost matrix | $\\psi \\in \\mathbb{R}^\\times{nm \\times k}$        | for $k$ constraints                     |\n",
    "| Constraint vector             | $b \\in \\mathbb{R}^k$                             |                                         |\n",
    "| Discount Factor               | $\\gamma \\in (0,1)$                               |                                         |\n",
    "\t\t"
   ]
  },
  {
   "attachments": {},
   "cell_type": "markdown",
   "metadata": {},
   "source": [
    "## class Gridworld \n",
    "- should take as input world size\n",
    "- should provide a plot function\n",
    "- be seedable\n",
    "- have a step(a) method that returns an observation ???\n",
    "- provide the vector-form variables used in analysis"
   ]
  },
  {
   "cell_type": "code",
   "execution_count": 52,
   "metadata": {},
   "outputs": [],
   "source": [
    "import matplotlib.pyplot as plt\n",
    "from env.gridworld import Gridworld"
   ]
  },
  {
   "cell_type": "code",
   "execution_count": 49,
   "metadata": {},
   "outputs": [],
   "source": [
    "env = Gridworld(\n",
    "    grid_width  = 2, \n",
    "    grid_height = 2, \n",
    "    noise       = 0.1, \n",
    "    gamma       = 0.1, \n",
    "    goals       = [((0,0),2.0) ]\n",
    ")"
   ]
  },
  {
   "cell_type": "code",
   "execution_count": 50,
   "metadata": {},
   "outputs": [
    {
     "data": {
      "text/plain": [
       "(4, 4, 4)"
      ]
     },
     "execution_count": 50,
     "metadata": {},
     "output_type": "execute_result"
    }
   ],
   "source": [
    "env.P_sa.shape"
   ]
  },
  {
   "cell_type": "code",
   "execution_count": 51,
   "metadata": {},
   "outputs": [
    {
     "data": {
      "text/plain": [
       "(4, 4)"
      ]
     },
     "execution_count": 51,
     "metadata": {},
     "output_type": "execute_result"
    }
   ],
   "source": [
    "env.R.shape"
   ]
  },
  {
   "cell_type": "code",
   "execution_count": 59,
   "metadata": {},
   "outputs": [
    {
     "data": {
      "text/plain": [
       "<matplotlib.image.AxesImage at 0x7f84a2c7af70>"
      ]
     },
     "execution_count": 59,
     "metadata": {},
     "output_type": "execute_result"
    },
    {
     "data": {
      "image/png": "[encoded data removed]",
      "text/plain": [
       "<Figure size 480x480 with 1 Axes>"
      ]
     },
     "metadata": {},
     "output_type": "display_data"
    }
   ],
   "source": [
    "plt.matshow(env.P_sa[:,3,:])"
   ]
  },
  {
   "cell_type": "code",
   "execution_count": null,
   "metadata": {},
   "outputs": [],
   "source": []
  }
 ],
 "metadata": {
  "kernelspec": {
   "display_name": "DeepLearning3.9",
   "language": "python",
   "name": "python3"
  },
  "language_info": {
   "codemirror_mode": {
    "name": "ipython",
    "version": 3
   },
   "file_extension": ".py",
   "mimetype": "text/x-python",
   "name": "python",
   "nbconvert_exporter": "python",
   "pygments_lexer": "ipython3",
   "version": "3.9.13"
  },
  "orig_nbformat": 4,
  "vscode": {
   "interpreter": {
    "hash": "5add61fee41a7b1e2f73956a71011f2780b5879f5bd7bc6276eaf5a5bcc93f57"
   }
  }
 },
 "nbformat": 4,
 "nbformat_minor": 2
}
