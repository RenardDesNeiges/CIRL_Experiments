{
 "cells": [
  {
   "cell_type": "markdown",
   "metadata": {},
   "source": [
    "# Vectorization Notebook\n",
    "\n",
    "This notebook is dedicated to make my gradient evaluation code fast by using the XLA (Accelerated Linear Algebra) vector operations from jax to compute them (instead of the insanely slow python iterators I've previously been using). This is a bit of a pain to write though, hence the dedicated notebook."
   ]
  },
  {
   "cell_type": "code",
   "execution_count": 5,
   "metadata": {},
   "outputs": [],
   "source": [
    "\"\"\" Includes \"\"\"\n",
    "import jax\n",
    "from jax import numpy as jnp\n",
    "import jax.nn as nn\n",
    "import matplotlib.pyplot as plt\n",
    "from env.mdp import Sampler, MarkovDecisionProcess\n",
    "from env.gridworld import Gridworld, gridplot\n",
    "from algs.policy_gradients import PolicyGradientMethod, vanillaGradOracle, naturalGradOracle, monteCarloVanillaGrad, Sampler, monteCarloNaturalGrad\n",
    "from itertools import accumulate\n",
    "\n",
    "def flatten(v):\n",
    "    return jnp.reshape(v,(list(accumulate(v.shape,lambda x,y:x*y))[-1],))\n",
    "\n",
    "\"\"\" Initialize the Jax RNG \"\"\"\n",
    "key = jax.random.PRNGKey(0) \n",
    "from jax.config import config; config.update(\"jax_enable_x64\", True)"
   ]
  },
  {
   "cell_type": "markdown",
   "metadata": {},
   "source": [
    "### Instantiating some example MDP\n",
    "We instantiate a $2 \\times 1$ `gridworld`, to have the simplest possible example for debugging."
   ]
  },
  {
   "cell_type": "code",
   "execution_count": 6,
   "metadata": {},
   "outputs": [
    {
     "data": {
      "image/png": "[encoded data removed]",
      "text/plain": [
       "<Figure size 200x160 with 1 Axes>"
      ]
     },
     "metadata": {},
     "output_type": "display_data"
    }
   ],
   "source": [
    "R = 100\n",
    "goals = [((1,0),R)]\n",
    "gridMDP = Gridworld(2,1,0.1,0.9,goals=goals,obstacles=[]) \n",
    "gridMDP.init_distrib =  jnp.exp(jax.random.uniform(key,(gridMDP.n,))) / \\\n",
    "    jnp.sum(jnp.exp(jax.random.uniform(key,(gridMDP.n,))))\n",
    "    \n",
    "    \n",
    "fig, ax = plt.subplots(1,figsize=(2,1.6))\n",
    "gridplot(gridMDP,ax,goals=goals)\n",
    "ax.set_title('Gridworld structure')\n",
    "fig.tight_layout()\n",
    "plt.show()"
   ]
  },
  {
   "cell_type": "markdown",
   "metadata": {},
   "source": [
    "We also choose to use a direct `softmax` policy parametrization, which we define here:"
   ]
  },
  {
   "cell_type": "code",
   "execution_count": 7,
   "metadata": {},
   "outputs": [],
   "source": [
    "\"\"\"We define our policy parametrization\"\"\"\n",
    "parametrization = lambda p : nn.softmax(p,axis=1)\n",
    "\"\"\"As well as some random policy parameter vector\"\"\"\n",
    "theta = jax.random.uniform(key,(gridMDP.n,gridMDP.m)) # where the dimensionality matches the MDP"
   ]
  },
  {
   "cell_type": "markdown",
   "metadata": {},
   "source": [
    "### Sampling an MDP\n",
    "\n",
    "A quick profiling of the naive (very very slow) implementation of GPOMDP tells us that about $\\approx 90\\%$ of the performance is lost in the GPOMDP gradient computation (and not in the batch sampling), so although on paper it should be possible to paralellize pretty well for discrete MDPs - when sampling batches - we decide not to consider vectorization of the sampling routine."
   ]
  },
  {
   "cell_type": "code",
   "execution_count": 22,
   "metadata": {},
   "outputs": [
    {
     "name": "stdout",
     "output_type": "stream",
     "text": [
      "The batch object is an object of class <class 'list'> (of length 5, which is the batch size), \n",
      " which contains trajectories (which are of <class 'list'> and of lenght 3, which is the horizon). \n",
      " Each trajectory element is a <class 'tuple'> which contains 3 elements: the state, the action and the reward.\n",
      "\n",
      "The batch that we just sampled prints as: \n",
      "\n",
      "[[(DeviceArray(0, dtype=int64), DeviceArray(1, dtype=int64), 0), (DeviceArray(0, dtype=int64), DeviceArray(1, dtype=int64), -1.0), (DeviceArray(0, dtype=int64), DeviceArray(1, dtype=int64), -1.0)], [(DeviceArray(1, dtype=int64), DeviceArray(3, dtype=int64), 0), (DeviceArray(1, dtype=int64), DeviceArray(3, dtype=int64), -1.0), (DeviceArray(1, dtype=int64), DeviceArray(3, dtype=int64), -1.0)], [(DeviceArray(0, dtype=int64), DeviceArray(1, dtype=int64), 0), (DeviceArray(0, dtype=int64), DeviceArray(1, dtype=int64), -1.0), (DeviceArray(0, dtype=int64), DeviceArray(1, dtype=int64), -1.0)], [(DeviceArray(0, dtype=int64), DeviceArray(1, dtype=int64), 0), (DeviceArray(0, dtype=int64), DeviceArray(1, dtype=int64), -1.0), (DeviceArray(0, dtype=int64), DeviceArray(1, dtype=int64), -1.0)], [(DeviceArray(1, dtype=int64), DeviceArray(3, dtype=int64), 0), (DeviceArray(1, dtype=int64), DeviceArray(3, dtype=int64), -1.0), (DeviceArray(1, dtype=int64), DeviceArray(3, dtype=int64), -1.0)]]\n"
     ]
    }
   ],
   "source": [
    "\"\"\" We must define an horizon and a batch size \"\"\"\n",
    "HORIZON = 3\n",
    "BATCH = 5\n",
    "\n",
    "\"\"\" Generic trajectory sampling routine for MDPs \"\"\"\n",
    "def sample_trajectory(pi : jnp.ndarray ,mdp: MarkovDecisionProcess,smp : Sampler,H : int,key : jax.random.PRNGKeyArray):\n",
    "    \"\"\" Samples a single trajectory\n",
    "    \"\"\"\n",
    "    def pick_action(pi : jnp.ndarray,s:int,mdp:MarkovDecisionProcess):\n",
    "        p = pi[s]; p /= jnp.sum(p)\n",
    "        return jax.random.choice(key,jnp.arange(mdp.m), p = p)\n",
    "        \n",
    "    traj = []\n",
    "    r_t = 0\n",
    "    s_t = smp.reset(key=key)\n",
    "    for _ in range(H):\n",
    "        a_t = pick_action(pi,s_t,mdp)\n",
    "        traj += [(s_t,a_t,r_t)]\n",
    "        s_t, r_t = smp.step(a_t)\n",
    "    return traj\n",
    "\n",
    "\"\"\" Samples a batch of trajectories \"\"\"\n",
    "def sample_batch(pi:jnp.ndarray,mdp:MarkovDecisionProcess,smp:Sampler,H:int,B:int,key:jax.random.PRNGKeyArray):\n",
    "    \"\"\" Samples a batch of trajectories\n",
    "    \"\"\"\n",
    "    subkeys = jax.random.split(key,B)\n",
    "    return [sample_trajectory(pi,mdp,smp,H,k) for k in subkeys]\n",
    "\n",
    "\"\"\" The sampler object handlers random sampling of MDP steps \"\"\"\n",
    "sampler = Sampler(gridMDP,key)\n",
    "\n",
    "batch = sample_batch(parametrization(theta),gridMDP,sampler,HORIZON,BATCH,key)\n",
    "\n",
    "print(f'The batch object is an object of class {type(batch)} (of length {len(batch)}, which is the batch size), \\n which contains trajectories (which are of {type(batch[0])} and of lenght {len(batch[0])}, which is the horizon). \\n Each trajectory element is a {type(batch[0][0])} which contains 3 elements: the state, the action and the reward.')\n",
    "print('\\nThe batch that we just sampled prints as: \\n')\n",
    "print(batch)"
   ]
  },
  {
   "cell_type": "markdown",
   "metadata": {},
   "source": [
    "### Computing GPOMDP gradients the ugly (and really slow) way\n",
    "\n",
    "The `GPOMDP` estimator which has the following form:\n",
    "$$\n",
    "g_\\theta = \n",
    "\\frac{1}{B} \\sum^B_{i=1} \\sum^{H-1}_{h=0} r_h^i \\gamma^h\n",
    "\\Big( \\sum^{h}_{j=0} \\nabla_\\theta \\log \\pi_\\theta(a_j^i|s_j^i)  \\Big)\n",
    "\\approx \\nabla_\\theta J(\\theta)\n",
    "$$\n",
    "\n",
    "Which lends itself very easily to an incredibly slow python iterator implementation. Which we give below. This implementation is tested and we know that it gives correct gradients, so we will use it as a way of checking the validity of our vectorized `jax` implementation."
   ]
  },
  {
   "cell_type": "code",
   "execution_count": 105,
   "metadata": {},
   "outputs": [],
   "source": [
    "def gpomdp(batch,theta,B,H,gamma,parametrization):\n",
    "    def g_log(theta,s,a):\n",
    "        return jax.grad(lambda p : jnp.log(parametrization(p))[s,a])(theta)\n",
    "    def trace_grad(batch,theta,b,h):\n",
    "        return jnp.sum(jnp.array([g_log(theta,e[0],e[1]) for e in batch[b][:h]]),axis=0)\n",
    "    def single_sample_gpomdp(batch,theta,b,H):\n",
    "        return jnp.sum(jnp.array([(gamma**h)*batch[b][h][2] \\\n",
    "                    *trace_grad(batch,theta,b,h) for h in range(1,H)]),axis=0) #something is fucked here actually\n",
    "        \n",
    "    return (1/B)*jnp.sum(jnp.array([single_sample_gpomdp(batch,theta,b,H) for b in range(B)]),axis=0)"
   ]
  },
  {
   "cell_type": "markdown",
   "metadata": {},
   "source": [
    "This gives a gradient of shape $S \\times A$, which here is $2 \\times 4$."
   ]
  },
  {
   "cell_type": "code",
   "execution_count": 104,
   "metadata": {},
   "outputs": [
    {
     "name": "stdout",
     "output_type": "stream",
     "text": [
      "[[ 0.30037406 -1.04648386  0.32618588  0.41992391]\n",
      " [ 0.25095342  0.16381175  0.2803066  -0.69507177]] (2, 4)\n"
     ]
    }
   ],
   "source": [
    "reference_gradient = gpomdp(batch,theta,BATCH,HORIZON,gridMDP.gamma,parametrization)\n",
    "print(reference_gradient, reference_gradient.shape)"
   ]
  },
  {
   "cell_type": "markdown",
   "metadata": {},
   "source": [
    "### Vectorized implementation of the gradient estimator\n",
    "The general idea behind the vectorized implementation is to \n",
    "\n",
    "0) properly batch the data\n",
    "1) compute all the gradients $\\nabla_\\theta \\log \\pi_\\theta(a_j^i|s_j^i)$ in parallel (using a `jax.vmap` operator)\n",
    "2) compute the sums $\\sum^{h}_{j=0} \\nabla_\\theta \\log \\pi_\\theta(a_j^i|s_j^i)$ using a parallelized cumulative sum operator\n",
    "3) compute the terms $r_h^i \\gamma^h \\Big( \\sum^{h}_{j=0} \\nabla_\\theta \\log \\pi_\\theta(a_j^i|s_j^i)  \\Big)$ in parrallel using elementwise mutliplication\n",
    "4) sum everything together along the batch and horizon axes to get the gradient estimation"
   ]
  },
  {
   "cell_type": "code",
   "execution_count": 81,
   "metadata": {},
   "outputs": [
    {
     "name": "stdout",
     "output_type": "stream",
     "text": [
      "We have two integer arrays (for state and actions) and a float array (for rewards)\n",
      "All arrays have the same shape:\n",
      "(5, 3) (5, 3) (5, 3)\n",
      ",which is (BATCH, HORIZON).\n"
     ]
    }
   ],
   "source": [
    "\"\"\" First (0.) we batch the data together into three separate jax deviceArrays\"\"\"\n",
    "s_batch = jnp.array([[e[0] for e in s] for s in batch])\n",
    "a_batch = jnp.array([[e[1] for e in s] for s in batch])\n",
    "r_batch = jnp.array([[e[2] for e in s] for s in batch])\n",
    "print(\"We have two integer arrays (for state and actions) and a float array (for rewards)\")\n",
    "print(\"All arrays have the same shape:\")\n",
    "print(s_batch.shape,a_batch.shape, r_batch.shape)\n",
    "print(\",which is (BATCH, HORIZON).\")"
   ]
  },
  {
   "cell_type": "code",
   "execution_count": 82,
   "metadata": {},
   "outputs": [
    {
     "name": "stdout",
     "output_type": "stream",
     "text": [
      "This generates quite a complex shaped tensor, it has shape: (5, 3, 2, 4), \n",
      "which is (BATCH,HORIZON,STATE,ACTION), if we slice the array \n",
      "and look at a single gradient in the gradient tensor what we have is something like that:\n",
      "[[-0.1986601   0.69211895 -0.2157314  -0.27772746]\n",
      " [ 0.          0.          0.          0.        ]]\n",
      "Which is the gradient of the log of the policy parametrization of whatever action was taken at \n",
      "some state action pair (s,a) corresponding to some step of some trajectory in the batch.\n",
      "This element is of shape (2, 4), whcih stands for (STATE,ACTION).\n"
     ]
    }
   ],
   "source": [
    "\"\"\"Next (1.) we compute the batched gradients\"\"\"\n",
    "\n",
    "\"\"\"This operation has multiple steps, first we define a gradient of log function and use \n",
    "a lambda expression to get it to have a prototype which is easier to vmap over later\"\"\"\n",
    "def g_log(s,a,theta,parametrization):\n",
    "    return jax.grad(lambda p : jnp.log(parametrization(p))[s,a])(theta)\n",
    "_f = lambda s,a : g_log(s,a,theta,parametrization)\n",
    "\n",
    "\"\"\"The we generate ou gradient array by using a double jax.vmap operation (which is required because\n",
    "    we are vmapping over two different axes)\"\"\"\n",
    "batch_grads = jax.vmap(jax.vmap(_f))(s_batch, a_batch) ##vmap can only operate on a single axis \n",
    "\n",
    "print(f\"This generates quite a complex shaped tensor, it has shape: {batch_grads.shape}, \\nwhich is (BATCH,HORIZON,STATE,ACTION), if we slice the array \\nand look at a single gradient in the gradient tensor what we have is something like that:\")\n",
    "print(batch_grads[0,0,:,:])\n",
    "print(f\"Which is the gradient of the log of the policy parametrization of whatever action was taken at \\nsome state action pair (s,a) corresponding to some step of some trajectory in the batch.\\nThis element is of shape {batch_grads[0,0,:,:].shape}, whcih stands for (STATE,ACTION).\")"
   ]
  },
  {
   "cell_type": "code",
   "execution_count": 83,
   "metadata": {},
   "outputs": [
    {
     "name": "stdout",
     "output_type": "stream",
     "text": [
      "Gradients for (a0, s0) at all time steps in trajectory 0 of the batch:        \n",
      "[(0, -0.1986600953106976), (1, -0.1986600953106976), (2, -0.1986600953106976)]        \n",
      "Accumulated gradients for (a0, s0) at all time steps in trajectory 0 of the batch:        \n",
      "[(0, -0.1986600953106976), (1, -0.3973201906213952), (2, -0.5959802859320927)]\n"
     ]
    }
   ],
   "source": [
    "\"\"\"What we do next (2.) is that we take a cumulative sum of the batched gradients along the horizon axis\"\"\"\n",
    "\n",
    "# Recall the grad tensor is of shape (BATCH,HORIZON,STATE,ACTION), so axis 1 is the time axis\n",
    "summed_grads = jnp.cumsum(batch_grads,axis=1) \n",
    "\n",
    "print(f\"Gradients for (a0, s0) at all time steps in trajectory 0 of the batch:\\\n",
    "        \\n{[(t,float(batch_grads[0,t,0,0])) for t in range(HORIZON)]}\\\n",
    "        \\nAccumulated gradients for (a0, s0) at all time steps in trajectory 0 of the batch:\\\n",
    "        \\n{[(t,float(summed_grads[0,t,0,0])) for t in range(HORIZON)]}\") "
   ]
  },
  {
   "cell_type": "code",
   "execution_count": 84,
   "metadata": {},
   "outputs": [
    {
     "data": {
      "text/plain": [
       "(5, 3, 2, 4)"
      ]
     },
     "execution_count": 84,
     "metadata": {},
     "output_type": "execute_result"
    }
   ],
   "source": [
    "gamma_tensor.shape"
   ]
  },
  {
   "cell_type": "code",
   "execution_count": 85,
   "metadata": {},
   "outputs": [
    {
     "name": "stdout",
     "output_type": "stream",
     "text": [
      "Which gives us a tensor of the same shape as the previous one: (5, 3, 2, 4)\n"
     ]
    }
   ],
   "source": [
    "\"\"\"Then (3.) we multiply our accumulated gradients with the discount factors and rewards\"\"\"\n",
    "\n",
    "gamma_tensor = gridMDP.gamma**jnp.arange(HORIZON) #here we build a discount factor tensor of the right shape\n",
    "gamma_tensor = jnp.repeat(jnp.repeat(jnp.repeat(\n",
    "    gamma_tensor[jnp.newaxis, :, jnp.newaxis, jnp.newaxis], \n",
    "        BATCH, axis=0), summed_grads.shape[2],axis=2), summed_grads.shape[3],axis=3)\n",
    "reward_tensor = jnp.repeat(jnp.repeat(\n",
    "    r_batch[:, :, jnp.newaxis, jnp.newaxis], \n",
    "    summed_grads.shape[2], axis=2),\n",
    "        summed_grads.shape[3],axis=3) #here we repeat the reward along the right axes so we can elementwise multiply with the gradients\n",
    "\n",
    "gradient_tensor = summed_grads * reward_tensor * gamma_tensor # finally we get our gradients\n",
    "print(f'Which gives us a tensor of the same shape as the previous one: {gradient_tensor.shape}')"
   ]
  },
  {
   "cell_type": "code",
   "execution_count": 87,
   "metadata": {},
   "outputs": [
    {
     "name": "stdout",
     "output_type": "stream",
     "text": [
      "The final gradient is thus:\n",
      "[[ 0.50419932 -1.7565979   0.54752629  0.70487229]\n",
      " [ 0.42124325  0.27496972  0.47051464 -1.16672761]]\n"
     ]
    }
   ],
   "source": [
    "\"\"\"Finally (4.) summing over the batch and horizon axes we get our gradient value\"\"\"\n",
    "fast_gradient = (1/BATCH)*jnp.sum(gradient_tensor,axis=(0,1))\n",
    "print(f\"The final gradient is thus:\\n{fast_gradient}\")"
   ]
  },
  {
   "cell_type": "code",
   "execution_count": 89,
   "metadata": {},
   "outputs": [
    {
     "data": {
      "text/plain": [
       "DeviceArray([[ 0.30037406, -1.04648386,  0.32618588,  0.41992391],\n",
       "             [ 0.25095342,  0.16381175,  0.2803066 , -0.69507177]],            dtype=float64)"
      ]
     },
     "execution_count": 89,
     "metadata": {},
     "output_type": "execute_result"
    }
   ],
   "source": [
    "reference_gradient"
   ]
  },
  {
   "cell_type": "code",
   "execution_count": 91,
   "metadata": {},
   "outputs": [
    {
     "data": {
      "text/plain": [
       "DeviceArray([1.  , 0.9 , 0.81], dtype=float64, weak_type=True)"
      ]
     },
     "execution_count": 91,
     "metadata": {},
     "output_type": "execute_result"
    }
   ],
   "source": [
    "gamma_tensor[0,:,0,0]"
   ]
  },
  {
   "cell_type": "code",
   "execution_count": null,
   "metadata": {},
   "outputs": [],
   "source": []
  }
 ],
 "metadata": {
  "kernelspec": {
   "display_name": "RLExperiments",
   "language": "python",
   "name": "python3"
  },
  "language_info": {
   "codemirror_mode": {
    "name": "ipython",
    "version": 3
   },
   "file_extension": ".py",
   "mimetype": "text/x-python",
   "name": "python",
   "nbconvert_exporter": "python",
   "pygments_lexer": "ipython3",
   "version": "3.10.4"
  },
  "orig_nbformat": 4
 },
 "nbformat": 4,
 "nbformat_minor": 2
}
