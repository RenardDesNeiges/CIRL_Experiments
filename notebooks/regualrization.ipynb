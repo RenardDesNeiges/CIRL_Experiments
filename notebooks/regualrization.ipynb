{
 "cells": [
  {
   "cell_type": "markdown",
   "metadata": {},
   "source": [
    "# Regualarization in MDP\n",
    "\n",
    "In the following notebook we look at introducing regularization in MDPs."
   ]
  },
  {
   "cell_type": "code",
   "execution_count": 1,
   "metadata": {},
   "outputs": [],
   "source": [
    "\"\"\" Includes \"\"\"\n",
    "import jax\n",
    "from jax import numpy as jnp\n",
    "import jax.nn as nn\n",
    "import matplotlib.pyplot as plt\n",
    "from env.mdp import Sampler\n",
    "from env.gridworld import Gridworld, gridplot\n",
    "from algs.policy_gradients import PolicyGradientMethod, vanillaGradOracle, naturalGradOracle, monteCarloVanillaGrad, Sampler, monteCarloNaturalGrad, sample_batch\n",
    "from itertools import accumulate\n",
    "\n",
    "def flatten(v):\n",
    "    return jnp.reshape(v,(list(accumulate(v.shape,lambda x,y:x*y))[-1],))\n",
    "\n",
    "\"\"\" Initialize the Jax RNG \"\"\"\n",
    "key = jax.random.PRNGKey(0) \n",
    "from jax.config import config; config.update(\"jax_enable_x64\", True)"
   ]
  },
  {
   "cell_type": "code",
   "execution_count": 2,
   "metadata": {},
   "outputs": [
    {
     "data": {
      "image/png": "[encoded data removed]",
      "text/plain": [
       "<Figure size 200x160 with 1 Axes>"
      ]
     },
     "metadata": {},
     "output_type": "display_data"
    }
   ],
   "source": [
    "R = 100\n",
    "goals = [((1,0),R)]\n",
    "gridMDP = Gridworld(2,1,0.1,0.9,goals=goals,obstacles=[]) \n",
    "gridMDP.init_distrib =  jnp.exp(jax.random.uniform(key,(gridMDP.n,))) / \\\n",
    "    jnp.sum(jnp.exp(jax.random.uniform(key,(gridMDP.n,))))\n",
    "    \n",
    "fig, ax = plt.subplots(1,figsize=(2,1.6))\n",
    "gridplot(gridMDP,ax,goals=goals)\n",
    "ax.set_title('Gridworld structure')\n",
    "fig.tight_layout()\n",
    "plt.show()"
   ]
  },
  {
   "cell_type": "markdown",
   "metadata": {},
   "source": [
    "We also choose to use a direct `softmax` policy parametrization, which we define here:"
   ]
  },
  {
   "cell_type": "code",
   "execution_count": 4,
   "metadata": {},
   "outputs": [],
   "source": [
    "\"\"\"We define our policy parametrization\"\"\"\n",
    "parametrization = lambda p : nn.softmax(p,axis=1)\n",
    "\"\"\"As well as some random policy parameter vector\"\"\"\n",
    "theta = jax.random.uniform(key,(gridMDP.n,gridMDP.m)) # where the dimensionality matches the MDP"
   ]
  },
  {
   "cell_type": "markdown",
   "metadata": {},
   "source": [
    "The regularizer affects the computation of the objective function $J$."
   ]
  },
  {
   "cell_type": "code",
   "execution_count": 3,
   "metadata": {},
   "outputs": [],
   "source": [
    "def J(mdp,pi, regularizer = None): \n",
    "    unreg_J = jnp.dot(flatten(mdp.R),flatten(mdp.occ_measure(pi)))\n",
    "    if regularizer is None: return unreg_J\n",
    "    else:\n",
    "        return unreg_J "
   ]
  },
  {
   "cell_type": "code",
   "execution_count": 21,
   "metadata": {},
   "outputs": [
    {
     "data": {
      "text/plain": [
       "DeviceArray(5.5385238, dtype=float64)"
      ]
     },
     "execution_count": 21,
     "metadata": {},
     "output_type": "execute_result"
    }
   ],
   "source": [
    "beta  = 0.2\n",
    "\n",
    "_pi = parametrization(theta)\n",
    "unreg_J = jnp.dot(flatten(gridMDP.R),flatten(gridMDP.occ_measure(_pi)))\n",
    "\n",
    "shannonEntropy = lambda p : -jnp.dot(jnp.log(p),p)\n",
    "reg = lambda p : beta * shannonEntropy(p)\n",
    "\n",
    "om = gridMDP.state_occ_measure(_pi)\n",
    "reg_term = jnp.dot(jax.vmap(reg)(_pi),om)\n",
    "\n",
    "J = unreg_J - reg_term\n",
    "J"
   ]
  },
  {
   "cell_type": "code",
   "execution_count": null,
   "metadata": {},
   "outputs": [],
   "source": []
  }
 ],
 "metadata": {
  "kernelspec": {
   "display_name": "RLExperiments",
   "language": "python",
   "name": "python3"
  },
  "language_info": {
   "codemirror_mode": {
    "name": "ipython",
    "version": 3
   },
   "file_extension": ".py",
   "mimetype": "text/x-python",
   "name": "python",
   "nbconvert_exporter": "python",
   "pygments_lexer": "ipython3",
   "version": "3.10.4"
  },
  "orig_nbformat": 4
 },
 "nbformat": 4,
 "nbformat_minor": 2
}
